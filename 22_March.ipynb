{
 "cells": [
  {
   "cell_type": "markdown",
   "metadata": {},
   "source": [
    "Q1. Pearson correlation coefficient is a measure of the linear relationship between two variables. Suppose\n",
    "you have collected data on the amount of time students spend studying for an exam and their final exam\n",
    "scores. Calculate the Pearson correlation coefficient between these two variables and interpret the result.\n",
    "\n",
    "Q2. Spearman's rank correlation is a measure of the monotonic relationship between two variables.\n",
    "Suppose you have collected data on the amount of sleep individuals get each night and their overall job\n",
    "satisfaction level on a scale of 1 to 10. Calculate the Spearman's rank correlation between these two\n",
    "variables and interpret the result.\n",
    "\n",
    "Q3. Suppose you are conducting a study to examine the relationship between the number of hours of\n",
    "exercise per week and body mass index (BMI) in a sample of adults. You collected data on both variables\n",
    "for 50 participants. Calculate the Pearson correlation coefficient and the Spearman's rank correlation\n",
    "between these two variables and compare the results.\n",
    "\n",
    "Q4. A researcher is interested in examining the relationship between the number of hours individuals\n",
    "spend watching television per day and their level of physical activity. The researcher collected data on\n",
    "both variables from a sample of 50 participants. Calculate the Pearson correlation coefficient between\n",
    "these two variables."
   ]
  },
  {
   "cell_type": "code",
   "execution_count": null,
   "metadata": {},
   "outputs": [],
   "source": []
  },
  {
   "cell_type": "markdown",
   "metadata": {},
   "source": [
    "Q1. To calculate the Pearson correlation coefficient between the amount of time students spend studying for an exam and their final exam scores, you would first need to have data for both variables for each student. Once you have the data, you can use the following formula to calculate the Pearson correlation coefficient:\n",
    "\n",
    "Pearson correlation coefficient (r) = (Σ((x - μx)(y - μy))) / (sqrt(Σ(x - μx)²) * sqrt(Σ(y - μy)²))\n",
    "\n",
    "Here, x represents the values for the study time, y represents the values for the exam scores, μx is the mean of the study time values, and μy is the mean of the exam score values. Σ denotes the summation symbol.\n",
    "\n",
    "Interpretation: The Pearson correlation coefficient ranges from -1 to 1. \n",
    "\n",
    "- A coefficient of 1 indicates a perfect positive linear relationship, meaning that as the study time increases, the exam scores also increase proportionally.\n",
    "- A coefficient of -1 indicates a perfect negative linear relationship, meaning that as the study time increases, the exam scores decrease proportionally.\n",
    "- A coefficient of 0 indicates no linear relationship between the two variables.\n",
    "\n",
    "Q2. To calculate the Spearman's rank correlation between the amount of sleep individuals get each night and their overall job satisfaction level, you would need to assign ranks to the data for each variable. Once you have the ranked data, you can use the following formula to calculate the Spearman's rank correlation:\n",
    "\n",
    "Spearman's rank correlation coefficient (ρ) = 1 - ((6 * Σ(d²)) / (n³ - n))\n",
    "\n",
    "Here, d represents the difference between the ranks of the paired data points, and n represents the number of data points.\n",
    "\n",
    "Interpretation: The Spearman's rank correlation coefficient also ranges from -1 to 1.\n",
    "\n",
    "- A coefficient of 1 indicates a perfect monotonic positive relationship, meaning that as the amount of sleep increases, the job satisfaction level also increases monotonically.\n",
    "- A coefficient of -1 indicates a perfect monotonic negative relationship, meaning that as the amount of sleep increases, the job satisfaction level decreases monotonically.\n",
    "- A coefficient of 0 indicates no monotonic relationship between the two variables.\n",
    "\n",
    "Q3. To calculate both the Pearson correlation coefficient and the Spearman's rank correlation between the number of hours of exercise per week and body mass index (BMI) in a sample of adults, you would follow the same steps as explained in Q1 and Q2. Calculate the Pearson correlation coefficient using the formula provided in Q1, and calculate the Spearman's rank correlation coefficient using the formula provided in Q2.\n",
    "\n",
    "Comparing the results:\n",
    "- The Pearson correlation coefficient measures the strength and direction of the linear relationship between two variables. It assumes a linear relationship and calculates the strength of that linear association.\n",
    "- The Spearman's rank correlation coefficient measures the monotonic relationship between two variables. It does not assume a linear relationship but focuses on the direction and strength of the monotonic association.\n",
    "\n",
    "If the Pearson correlation coefficient and the Spearman's rank correlation coefficient have similar values and interpretations, it suggests a strong monotonic relationship between the variables. However, if the Pearson correlation coefficient is significantly different from the Spearman's rank correlation coefficient, it indicates a nonlinear relationship between the variables.\n",
    "\n",
    "Q4. To calculate the Pearson correlation coefficient between the number of hours individuals spend watching television per day and their level of physical activity, you would follow the same steps as explained in Q1. Use the provided formula to calculate the Pearson correlation coefficient.\n",
    "\n",
    "Interpretation: The Pearson correlation coefficient will indicate the strength and direction of the linear relationship between the two variables.\n",
    "\n",
    "- A coefficient of 1 indicates a perfect positive linear relationship, meaning that as the number of hours spent watching television increases, the level of physical activity also increases proportionally.\n",
    "- A coefficient of -1 indicates a perfect negative linear relationship, meaning that as the number of hours spent watching television increases, the level of physical activity decreases proportionally.\n",
    "- A coefficient of 0 indicates no linear relationship between the two variables."
   ]
  }
 ],
 "metadata": {
  "language_info": {
   "name": "python"
  },
  "orig_nbformat": 4
 },
 "nbformat": 4,
 "nbformat_minor": 2
}
